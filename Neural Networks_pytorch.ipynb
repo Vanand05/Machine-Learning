{
 "cells": [
  {
   "cell_type": "markdown",
   "id": "f052b293",
   "metadata": {},
   "source": [
    "### Question 2 (using pytorch)\n",
    "#### Veera Anand"
   ]
  },
  {
   "cell_type": "code",
   "execution_count": 1,
   "id": "d18e47de",
   "metadata": {},
   "outputs": [],
   "source": [
    "import torch\n",
    "import numpy as np\n",
    "import random\n",
    "\n",
    "seed = 42\n",
    "torch.manual_seed(seed)\n",
    "np.random.seed(seed)\n",
    "random.seed(seed)"
   ]
  },
  {
   "cell_type": "markdown",
   "id": "a6e22fc7",
   "metadata": {},
   "source": [
    "#### 0. Use the ucimlrepo library to fetch the \"Default of Credit Card Clients\" dataset (ID: 350)."
   ]
  },
  {
   "cell_type": "code",
   "execution_count": 2,
   "id": "6bff66db",
   "metadata": {},
   "outputs": [
    {
     "name": "stdout",
     "output_type": "stream",
     "text": [
      "Shape: (30000, 24)\n",
      "Column names: ['X1', 'X2', 'X3', 'X4', 'X5', 'X6', 'X7', 'X8', 'X9', 'X10', 'X11', 'X12', 'X13', 'X14', 'X15', 'X16', 'X17', 'X18', 'X19', 'X20', 'X21', 'X22', 'X23', 'Y']\n"
     ]
    },
    {
     "data": {
      "text/html": [
       "<div>\n",
       "<style scoped>\n",
       "    .dataframe tbody tr th:only-of-type {\n",
       "        vertical-align: middle;\n",
       "    }\n",
       "\n",
       "    .dataframe tbody tr th {\n",
       "        vertical-align: top;\n",
       "    }\n",
       "\n",
       "    .dataframe thead th {\n",
       "        text-align: right;\n",
       "    }\n",
       "</style>\n",
       "<table border=\"1\" class=\"dataframe\">\n",
       "  <thead>\n",
       "    <tr style=\"text-align: right;\">\n",
       "      <th></th>\n",
       "      <th>X1</th>\n",
       "      <th>X2</th>\n",
       "      <th>X3</th>\n",
       "      <th>X4</th>\n",
       "      <th>X5</th>\n",
       "      <th>X6</th>\n",
       "      <th>X7</th>\n",
       "      <th>X8</th>\n",
       "      <th>X9</th>\n",
       "      <th>X10</th>\n",
       "      <th>...</th>\n",
       "      <th>X15</th>\n",
       "      <th>X16</th>\n",
       "      <th>X17</th>\n",
       "      <th>X18</th>\n",
       "      <th>X19</th>\n",
       "      <th>X20</th>\n",
       "      <th>X21</th>\n",
       "      <th>X22</th>\n",
       "      <th>X23</th>\n",
       "      <th>Y</th>\n",
       "    </tr>\n",
       "  </thead>\n",
       "  <tbody>\n",
       "    <tr>\n",
       "      <th>0</th>\n",
       "      <td>20000</td>\n",
       "      <td>2</td>\n",
       "      <td>2</td>\n",
       "      <td>1</td>\n",
       "      <td>24</td>\n",
       "      <td>2</td>\n",
       "      <td>2</td>\n",
       "      <td>-1</td>\n",
       "      <td>-1</td>\n",
       "      <td>-2</td>\n",
       "      <td>...</td>\n",
       "      <td>0</td>\n",
       "      <td>0</td>\n",
       "      <td>0</td>\n",
       "      <td>0</td>\n",
       "      <td>689</td>\n",
       "      <td>0</td>\n",
       "      <td>0</td>\n",
       "      <td>0</td>\n",
       "      <td>0</td>\n",
       "      <td>1</td>\n",
       "    </tr>\n",
       "    <tr>\n",
       "      <th>1</th>\n",
       "      <td>120000</td>\n",
       "      <td>2</td>\n",
       "      <td>2</td>\n",
       "      <td>2</td>\n",
       "      <td>26</td>\n",
       "      <td>-1</td>\n",
       "      <td>2</td>\n",
       "      <td>0</td>\n",
       "      <td>0</td>\n",
       "      <td>0</td>\n",
       "      <td>...</td>\n",
       "      <td>3272</td>\n",
       "      <td>3455</td>\n",
       "      <td>3261</td>\n",
       "      <td>0</td>\n",
       "      <td>1000</td>\n",
       "      <td>1000</td>\n",
       "      <td>1000</td>\n",
       "      <td>0</td>\n",
       "      <td>2000</td>\n",
       "      <td>1</td>\n",
       "    </tr>\n",
       "    <tr>\n",
       "      <th>2</th>\n",
       "      <td>90000</td>\n",
       "      <td>2</td>\n",
       "      <td>2</td>\n",
       "      <td>2</td>\n",
       "      <td>34</td>\n",
       "      <td>0</td>\n",
       "      <td>0</td>\n",
       "      <td>0</td>\n",
       "      <td>0</td>\n",
       "      <td>0</td>\n",
       "      <td>...</td>\n",
       "      <td>14331</td>\n",
       "      <td>14948</td>\n",
       "      <td>15549</td>\n",
       "      <td>1518</td>\n",
       "      <td>1500</td>\n",
       "      <td>1000</td>\n",
       "      <td>1000</td>\n",
       "      <td>1000</td>\n",
       "      <td>5000</td>\n",
       "      <td>0</td>\n",
       "    </tr>\n",
       "    <tr>\n",
       "      <th>3</th>\n",
       "      <td>50000</td>\n",
       "      <td>2</td>\n",
       "      <td>2</td>\n",
       "      <td>1</td>\n",
       "      <td>37</td>\n",
       "      <td>0</td>\n",
       "      <td>0</td>\n",
       "      <td>0</td>\n",
       "      <td>0</td>\n",
       "      <td>0</td>\n",
       "      <td>...</td>\n",
       "      <td>28314</td>\n",
       "      <td>28959</td>\n",
       "      <td>29547</td>\n",
       "      <td>2000</td>\n",
       "      <td>2019</td>\n",
       "      <td>1200</td>\n",
       "      <td>1100</td>\n",
       "      <td>1069</td>\n",
       "      <td>1000</td>\n",
       "      <td>0</td>\n",
       "    </tr>\n",
       "    <tr>\n",
       "      <th>4</th>\n",
       "      <td>50000</td>\n",
       "      <td>1</td>\n",
       "      <td>2</td>\n",
       "      <td>1</td>\n",
       "      <td>57</td>\n",
       "      <td>-1</td>\n",
       "      <td>0</td>\n",
       "      <td>-1</td>\n",
       "      <td>0</td>\n",
       "      <td>0</td>\n",
       "      <td>...</td>\n",
       "      <td>20940</td>\n",
       "      <td>19146</td>\n",
       "      <td>19131</td>\n",
       "      <td>2000</td>\n",
       "      <td>36681</td>\n",
       "      <td>10000</td>\n",
       "      <td>9000</td>\n",
       "      <td>689</td>\n",
       "      <td>679</td>\n",
       "      <td>0</td>\n",
       "    </tr>\n",
       "  </tbody>\n",
       "</table>\n",
       "<p>5 rows × 24 columns</p>\n",
       "</div>"
      ],
      "text/plain": [
       "       X1  X2  X3  X4  X5  X6  X7  X8  X9  X10  ...    X15    X16    X17  \\\n",
       "0   20000   2   2   1  24   2   2  -1  -1   -2  ...      0      0      0   \n",
       "1  120000   2   2   2  26  -1   2   0   0    0  ...   3272   3455   3261   \n",
       "2   90000   2   2   2  34   0   0   0   0    0  ...  14331  14948  15549   \n",
       "3   50000   2   2   1  37   0   0   0   0    0  ...  28314  28959  29547   \n",
       "4   50000   1   2   1  57  -1   0  -1   0    0  ...  20940  19146  19131   \n",
       "\n",
       "    X18    X19    X20   X21   X22   X23  Y  \n",
       "0     0    689      0     0     0     0  1  \n",
       "1     0   1000   1000  1000     0  2000  1  \n",
       "2  1518   1500   1000  1000  1000  5000  0  \n",
       "3  2000   2019   1200  1100  1069  1000  0  \n",
       "4  2000  36681  10000  9000   689   679  0  \n",
       "\n",
       "[5 rows x 24 columns]"
      ]
     },
     "execution_count": 2,
     "metadata": {},
     "output_type": "execute_result"
    }
   ],
   "source": [
    "from ucimlrepo import fetch_ucirepo\n",
    "import pandas as pd\n",
    "\n",
    "CCC_dataset = fetch_ucirepo(id=350)  \n",
    "\n",
    "df = pd.concat([CCC_dataset.data.features, CCC_dataset.data.targets], axis=1)\n",
    "\n",
    "print(\"Shape:\", df.shape)\n",
    "print(\"Column names:\", df.columns.tolist())\n",
    "df.head()"
   ]
  },
  {
   "cell_type": "markdown",
   "id": "45be67e6",
   "metadata": {},
   "source": [
    "#### 1. Load the features (X) and target (y) as pandas DataFrames."
   ]
  },
  {
   "cell_type": "code",
   "execution_count": 3,
   "id": "a2b996e0",
   "metadata": {},
   "outputs": [
    {
     "name": "stdout",
     "output_type": "stream",
     "text": [
      "X shape: (30000, 23)\n",
      "y shape: (30000, 1)\n"
     ]
    },
    {
     "data": {
      "text/plain": [
       "(       X1  X2  X3  X4  X5  X6  X7  X8  X9  X10  ...    X14    X15    X16  \\\n",
       " 0   20000   2   2   1  24   2   2  -1  -1   -2  ...    689      0      0   \n",
       " 1  120000   2   2   2  26  -1   2   0   0    0  ...   2682   3272   3455   \n",
       " 2   90000   2   2   2  34   0   0   0   0    0  ...  13559  14331  14948   \n",
       " 3   50000   2   2   1  37   0   0   0   0    0  ...  49291  28314  28959   \n",
       " 4   50000   1   2   1  57  -1   0  -1   0    0  ...  35835  20940  19146   \n",
       " \n",
       "      X17   X18    X19    X20   X21   X22   X23  \n",
       " 0      0     0    689      0     0     0     0  \n",
       " 1   3261     0   1000   1000  1000     0  2000  \n",
       " 2  15549  1518   1500   1000  1000  1000  5000  \n",
       " 3  29547  2000   2019   1200  1100  1069  1000  \n",
       " 4  19131  2000  36681  10000  9000   689   679  \n",
       " \n",
       " [5 rows x 23 columns],\n",
       "    Y\n",
       " 0  1\n",
       " 1  1\n",
       " 2  0\n",
       " 3  0\n",
       " 4  0)"
      ]
     },
     "execution_count": 3,
     "metadata": {},
     "output_type": "execute_result"
    }
   ],
   "source": [
    "X = df.drop(columns='Y')  \n",
    "y = df[['Y']]             \n",
    "\n",
    "print(\"X shape:\", X.shape)\n",
    "print(\"y shape:\", y.shape)\n",
    "X.head(), y.head()"
   ]
  },
  {
   "cell_type": "markdown",
   "id": "2b88a5bf",
   "metadata": {},
   "source": [
    "#### 2. Print and review the dataset's metadata. "
   ]
  },
  {
   "cell_type": "code",
   "execution_count": 4,
   "id": "c4721698",
   "metadata": {},
   "outputs": [
    {
     "name": "stdout",
     "output_type": "stream",
     "text": [
      "Dataset Name: Default of Credit Card Clients\n",
      "Dataset ID: None\n",
      "Number of Instances: 30000\n",
      "Number of Features: 23\n",
      "Feature Types: ['Integer', 'Real']\n",
      "Target Name(s): None\n",
      "License: None\n",
      "Source: None\n",
      "Description: [No description available in metadata]\n"
     ]
    }
   ],
   "source": [
    "print(\"Dataset Name:\", CCC_dataset.metadata.name)\n",
    "print(\"Dataset ID:\", CCC_dataset.metadata.id)\n",
    "print(\"Number of Instances:\", CCC_dataset.metadata.num_instances)\n",
    "print(\"Number of Features:\", CCC_dataset.metadata.num_features)\n",
    "print(\"Feature Types:\", CCC_dataset.metadata.feature_types)\n",
    "print(\"Target Name(s):\", CCC_dataset.metadata.target_names)\n",
    "print(\"License:\", CCC_dataset.metadata.license)\n",
    "print(\"Source:\", CCC_dataset.metadata.source)\n",
    "\n",
    "#missing data \n",
    "if CCC_dataset.metadata.description:\n",
    "    print(\"Description:\", CCC_dataset.metadata.description[:500] + \"...\")\n",
    "else:\n",
    "    print(\"Description: [No description available in metadata]\")"
   ]
  },
  {
   "cell_type": "markdown",
   "id": "1ad6aa28",
   "metadata": {},
   "source": [
    "#### 3. Print and review the dataset's variable information. "
   ]
  },
  {
   "cell_type": "code",
   "execution_count": 5,
   "id": "4587d447",
   "metadata": {},
   "outputs": [
    {
     "name": "stdout",
     "output_type": "stream",
     "text": [
      "VARIABLE INFORMATION:\n",
      "\n",
      "Name: X1                   | Type: int64\n",
      "Name: X2                   | Type: int64\n",
      "Name: X3                   | Type: int64\n",
      "Name: X4                   | Type: int64\n",
      "Name: X5                   | Type: int64\n",
      "Name: X6                   | Type: int64\n",
      "Name: X7                   | Type: int64\n",
      "Name: X8                   | Type: int64\n",
      "Name: X9                   | Type: int64\n",
      "Name: X10                  | Type: int64\n",
      "Name: X11                  | Type: int64\n",
      "Name: X12                  | Type: int64\n",
      "Name: X13                  | Type: int64\n",
      "Name: X14                  | Type: int64\n",
      "Name: X15                  | Type: int64\n",
      "Name: X16                  | Type: int64\n",
      "Name: X17                  | Type: int64\n",
      "Name: X18                  | Type: int64\n",
      "Name: X19                  | Type: int64\n",
      "Name: X20                  | Type: int64\n",
      "Name: X21                  | Type: int64\n",
      "Name: X22                  | Type: int64\n",
      "Name: X23                  | Type: int64\n",
      "Name: Y                    | Type: int64\n"
     ]
    }
   ],
   "source": [
    "print(\"VARIABLE INFORMATION:\\n\")\n",
    "\n",
    "for col in df.columns:\n",
    "    print(f\"Name: {col:20} | Type: {df[col].dtype}\")"
   ]
  },
  {
   "cell_type": "markdown",
   "id": "cdb55826",
   "metadata": {},
   "source": [
    "#### 4. Convert the feature and target DataFrames to NumPy arrays, then use tf.data.Dataset to create a shuffled dataset. Split it into three parts: 64% for training, 16% for validation, and 20% for testing. Batch each set using a batch size of 32."
   ]
  },
  {
   "cell_type": "code",
   "execution_count": 6,
   "id": "a8e97fb0",
   "metadata": {},
   "outputs": [],
   "source": [
    "import torch\n",
    "from torch.utils.data import TensorDataset, DataLoader, random_split\n",
    "from sklearn.preprocessing import StandardScaler\n",
    "\n",
    "X_np = X.values\n",
    "y_np = y.values\n",
    "\n",
    "X_tens = torch.tensor(X_np, dtype=torch.float32)\n",
    "y_tens = torch.tensor(y_np, dtype=torch.float32)\n",
    "\n",
    "full_ds = TensorDataset(X_tens, y_tens)\n",
    "\n",
    "total_l = len(full_ds)\n",
    "train_l = int(0.64 * total_l)\n",
    "val_l = int(0.16 * total_l)\n",
    "test_l = total_l - train_l - val_l\n",
    "\n",
    "train_set, val_set, test_set = random_split(full_ds, [train_l, val_l, test_l])\n",
    "\n",
    "def get_features_targets(dataset):\n",
    "    X, y = zip(*dataset)\n",
    "    return torch.stack(X), torch.stack(y)\n",
    "\n",
    "X_train_raw, y_train = get_features_targets(train_set)\n",
    "X_val_raw, y_val = get_features_targets(val_set)\n",
    "X_test_raw, y_test = get_features_targets(test_set)\n",
    "\n",
    "scaler = StandardScaler()\n",
    "X_train_scaled = torch.tensor(scaler.fit_transform(X_train_raw), dtype=torch.float32)\n",
    "X_val_scaled = torch.tensor(scaler.transform(X_val_raw), dtype=torch.float32)\n",
    "X_test_scaled = torch.tensor(scaler.transform(X_test_raw), dtype=torch.float32)\n",
    "\n",
    "train_dataset = TensorDataset(X_train_scaled, y_train)\n",
    "val_dataset = TensorDataset(X_val_scaled, y_val)\n",
    "test_dataset = TensorDataset(X_test_scaled, y_test)\n",
    "\n",
    "train_loader = DataLoader(train_dataset, batch_size=32, shuffle=True)\n",
    "val_loader = DataLoader(val_dataset, batch_size=32)\n",
    "test_loader = DataLoader(test_dataset, batch_size=32)"
   ]
  },
  {
   "cell_type": "markdown",
   "id": "666a1f4c",
   "metadata": {},
   "source": [
    "#### 5. Define, compile, and train a feedforward neural network using TensorFlow’s Sequential API with two hidden layers (64 and 32 units), ReLU activations, dropout for regularization, and a sigmoid output for binary classification. Store the training history."
   ]
  },
  {
   "cell_type": "markdown",
   "id": "bdec7438",
   "metadata": {},
   "source": [
    "#### Defining the model: "
   ]
  },
  {
   "cell_type": "code",
   "execution_count": 7,
   "id": "ef75be34",
   "metadata": {},
   "outputs": [],
   "source": [
    "import torch\n",
    "import torch.nn as nn\n",
    "import torch.nn.functional as F\n",
    "import torch.optim as optim\n",
    "\n",
    "class FeedforwardNN(nn.Module):\n",
    "    def __init__(self, input_dim):\n",
    "        super(FeedforwardNN, self).__init__()\n",
    "        self.fc1 = nn.Linear(input_dim, 64)\n",
    "        self.dropout1 = nn.Dropout(0.3)\n",
    "        self.fc2 = nn.Linear(64, 32)\n",
    "        self.dropout2 = nn.Dropout(0.3)\n",
    "        self.out = nn.Linear(32, 1)\n",
    "\n",
    "    def forward(self, x):\n",
    "        x = F.relu(self.fc1(x))\n",
    "        x = self.dropout1(x)\n",
    "        x = F.relu(self.fc2(x))\n",
    "        x = self.dropout2(x)\n",
    "        x = torch.sigmoid(self.out(x)) \n",
    "        return x"
   ]
  },
  {
   "cell_type": "markdown",
   "id": "54ec8cec",
   "metadata": {},
   "source": [
    "#### Compiling Model (Loss + Optimizer) "
   ]
  },
  {
   "cell_type": "code",
   "execution_count": 8,
   "id": "fa5f8087",
   "metadata": {},
   "outputs": [],
   "source": [
    "input_dim = X.shape[1]\n",
    "model = FeedforwardNN(input_dim)\n",
    "criterion = nn.BCELoss()  \n",
    "optimizer = optim.Adam(model.parameters(), lr=0.001)"
   ]
  },
  {
   "cell_type": "markdown",
   "id": "05909371",
   "metadata": {},
   "source": [
    "#### Training the Model (with loss + accuracy tracking)"
   ]
  },
  {
   "cell_type": "code",
   "execution_count": 9,
   "id": "1c76a649",
   "metadata": {},
   "outputs": [
    {
     "name": "stdout",
     "output_type": "stream",
     "text": [
      "Epoch 1/20 | Train Loss: 0.4896, Acc: 0.8021 | Val Loss: 0.4539, Acc: 0.8119\n",
      "Epoch 2/20 | Train Loss: 0.4587, Acc: 0.8142 | Val Loss: 0.4458, Acc: 0.8163\n",
      "Epoch 3/20 | Train Loss: 0.4510, Acc: 0.8165 | Val Loss: 0.4390, Acc: 0.8165\n",
      "Epoch 4/20 | Train Loss: 0.4487, Acc: 0.8168 | Val Loss: 0.4369, Acc: 0.8181\n",
      "Epoch 5/20 | Train Loss: 0.4457, Acc: 0.8176 | Val Loss: 0.4371, Acc: 0.8165\n",
      "Epoch 6/20 | Train Loss: 0.4435, Acc: 0.8179 | Val Loss: 0.4324, Acc: 0.8202\n",
      "Epoch 7/20 | Train Loss: 0.4410, Acc: 0.8172 | Val Loss: 0.4309, Acc: 0.8190\n",
      "Epoch 8/20 | Train Loss: 0.4405, Acc: 0.8187 | Val Loss: 0.4299, Acc: 0.8190\n",
      "Epoch 9/20 | Train Loss: 0.4400, Acc: 0.8186 | Val Loss: 0.4295, Acc: 0.8169\n",
      "Epoch 10/20 | Train Loss: 0.4369, Acc: 0.8199 | Val Loss: 0.4318, Acc: 0.8171\n",
      "Epoch 11/20 | Train Loss: 0.4366, Acc: 0.8192 | Val Loss: 0.4298, Acc: 0.8183\n",
      "Epoch 12/20 | Train Loss: 0.4396, Acc: 0.8205 | Val Loss: 0.4306, Acc: 0.8177\n",
      "Epoch 13/20 | Train Loss: 0.4359, Acc: 0.8205 | Val Loss: 0.4305, Acc: 0.8198\n",
      "Epoch 14/20 | Train Loss: 0.4351, Acc: 0.8206 | Val Loss: 0.4315, Acc: 0.8179\n",
      "Epoch 15/20 | Train Loss: 0.4365, Acc: 0.8204 | Val Loss: 0.4302, Acc: 0.8185\n",
      "Epoch 16/20 | Train Loss: 0.4325, Acc: 0.8201 | Val Loss: 0.4284, Acc: 0.8196\n",
      "Epoch 17/20 | Train Loss: 0.4342, Acc: 0.8208 | Val Loss: 0.4287, Acc: 0.8175\n",
      "Epoch 18/20 | Train Loss: 0.4351, Acc: 0.8202 | Val Loss: 0.4301, Acc: 0.8198\n",
      "Epoch 19/20 | Train Loss: 0.4351, Acc: 0.8197 | Val Loss: 0.4294, Acc: 0.8179\n",
      "Epoch 20/20 | Train Loss: 0.4334, Acc: 0.8199 | Val Loss: 0.4299, Acc: 0.8187\n"
     ]
    }
   ],
   "source": [
    "num_epochs = 20\n",
    "train_loss_history = []\n",
    "val_loss_history = []\n",
    "train_acc_history = []\n",
    "val_acc_history = []\n",
    "\n",
    "for epoch in range(num_epochs):\n",
    "    model.train()\n",
    "    total_loss = 0\n",
    "    correct_train = 0\n",
    "    total_train = 0\n",
    "\n",
    "    for X_batch, y_batch in train_loader:\n",
    "        optimizer.zero_grad()\n",
    "        y_pred = model(X_batch)\n",
    "        loss = criterion(y_pred, y_batch)\n",
    "        loss.backward()\n",
    "        optimizer.step()\n",
    "        total_loss += loss.item()\n",
    "\n",
    "        preds = (y_pred > 0.5).float()\n",
    "        correct_train += (preds == y_batch).sum().item()\n",
    "        total_train += y_batch.size(0)\n",
    "\n",
    "    avg_train_loss = total_loss / len(train_loader)\n",
    "    train_loss_history.append(avg_train_loss)\n",
    "    train_acc_history.append(correct_train / total_train)\n",
    "\n",
    "    model.eval()\n",
    "    val_loss = 0\n",
    "    correct_val = 0\n",
    "    total_val = 0\n",
    "    with torch.no_grad():\n",
    "        for X_batch, y_batch in val_loader:\n",
    "            y_pred = model(X_batch)\n",
    "            loss = criterion(y_pred, y_batch)\n",
    "            val_loss += loss.item()\n",
    "\n",
    "            preds = (y_pred > 0.5).float()\n",
    "            correct_val += (preds == y_batch).sum().item()\n",
    "            total_val += y_batch.size(0)\n",
    "\n",
    "    avg_val_loss = val_loss / len(val_loader)\n",
    "    val_loss_history.append(avg_val_loss)\n",
    "    val_acc_history.append(correct_val / total_val)\n",
    "\n",
    "    print(f\"Epoch {epoch+1}/{num_epochs} | \"\n",
    "          f\"Train Loss: {avg_train_loss:.4f}, Acc: {train_acc_history[-1]:.4f} | \"\n",
    "          f\"Val Loss: {avg_val_loss:.4f}, Acc: {val_acc_history[-1]:.4f}\")"
   ]
  },
  {
   "cell_type": "markdown",
   "id": "7d514e91",
   "metadata": {},
   "source": [
    "#### 6. Plot the training and validation accuracy and loss over the 20 training epochs using the history object returned by model.fit()."
   ]
  },
  {
   "cell_type": "code",
   "execution_count": 10,
   "id": "db80a352",
   "metadata": {},
   "outputs": [
    {
     "data": {
      "image/png": "[encoded data removed]",
      "text/plain": [
       "<Figure size 1400x500 with 2 Axes>"
      ]
     },
     "metadata": {},
     "output_type": "display_data"
    }
   ],
   "source": [
    "import matplotlib.pyplot as plt\n",
    "\n",
    "epochs = range(1, num_epochs + 1)\n",
    "\n",
    "plt.figure(figsize=(14, 5))\n",
    "\n",
    "#loss plot \n",
    "plt.subplot(1, 2, 1)\n",
    "plt.plot(epochs, train_loss_history, label='Train Loss', marker='o')\n",
    "plt.plot(epochs, val_loss_history, label='Val Loss', marker='s')\n",
    "plt.xlabel('Epoch')\n",
    "plt.ylabel('Loss')\n",
    "plt.title('Training & Validation Loss')\n",
    "plt.legend()\n",
    "plt.grid(True)\n",
    "\n",
    "#accuracy plot\n",
    "plt.subplot(1, 2, 2)\n",
    "plt.plot(epochs, train_acc_history, label='Train Accuracy', marker='o')\n",
    "plt.plot(epochs, val_acc_history, label='Val Accuracy', marker='s')\n",
    "plt.xlabel('Epoch')\n",
    "plt.ylabel('Accuracy')\n",
    "plt.title('Training & Validation Accuracy')\n",
    "plt.legend()\n",
    "plt.grid(True)\n",
    "\n",
    "plt.tight_layout()\n",
    "plt.show()"
   ]
  },
  {
   "cell_type": "markdown",
   "id": "369b4926",
   "metadata": {},
   "source": [
    "#### 7. Evaluate the final trained model on the test dataset using model.evaluate(), and print the resulting test accuracy and loss to assess generalization performance."
   ]
  },
  {
   "cell_type": "code",
   "execution_count": 11,
   "id": "11f333a1",
   "metadata": {},
   "outputs": [
    {
     "name": "stdout",
     "output_type": "stream",
     "text": [
      "\n",
      "Test Loss: 0.4357\n",
      "Test Accuracy: 0.8175\n"
     ]
    }
   ],
   "source": [
    "model.eval()\n",
    "\n",
    "test_loss = 0\n",
    "correct_test = 0\n",
    "total_test = 0\n",
    "\n",
    "with torch.no_grad():\n",
    "    for X_batch, y_batch in test_loader:\n",
    "        y_pred = model(X_batch)\n",
    "        loss = criterion(y_pred, y_batch)\n",
    "        test_loss += loss.item()\n",
    "\n",
    "        preds = (y_pred > 0.5).float()\n",
    "        correct_test += (preds == y_batch).sum().item()\n",
    "        total_test += y_batch.size(0)\n",
    "\n",
    "avg_test_loss = test_loss / len(test_loader)\n",
    "test_accuracy = correct_test / total_test\n",
    "\n",
    "print(f\"\\nTest Loss: {avg_test_loss:.4f}\")\n",
    "print(f\"Test Accuracy: {test_accuracy:.4f}\")"
   ]
  },
  {
   "cell_type": "markdown",
   "id": "3ab5d24a",
   "metadata": {},
   "source": [
    "#### 8. Evaluate model performance <br> Plot performance metrics and loss by epoch <br> Evaluate model in the test dataset <br> Display examples of images for each label and the prediction probabilities"
   ]
  },
  {
   "cell_type": "markdown",
   "id": "03a10e2a",
   "metadata": {},
   "source": [
    "__a. Plot performance metrics and loss by epoch__ <br>\n",
    "In Question 6 above, we plotted trianing and validation loss and accuracy across 20 epochs. \n",
    "\n",
    "The graphs showed: <br>\n",
    "steady convergenece <br>\n",
    "no major overfitting <br>"
   ]
  },
  {
   "cell_type": "markdown",
   "id": "3dab0148",
   "metadata": {},
   "source": [
    "___b. evaluate the model on the test dataset__\n",
    "\n",
    "in question 7 above we evaluated the test set, here are the metrics reported above: <br>\n",
    "Test Loss: 0.4357  <br>\n",
    "Test Accuracy: 0.8175  <br>\n",
    "\n",
    "Indicates good generalization"
   ]
  },
  {
   "cell_type": "markdown",
   "id": "de81a42c",
   "metadata": {},
   "source": [
    "__c. display examples of each label and prediction probabilities__"
   ]
  },
  {
   "cell_type": "code",
   "execution_count": 12,
   "id": "aa4449a2",
   "metadata": {},
   "outputs": [
    {
     "name": "stdout",
     "output_type": "stream",
     "text": [
      "Sample 1:\n",
      "  True Label       : 0\n",
      "  Predicted Prob.  : 0.3185\n",
      "  Predicted Class  : 0\n",
      "  Features (truncated): [-1.21 -1.23  0.18  0.86 -0.38] ...\n",
      "————————————————————————————————————————\n",
      "Sample 2:\n",
      "  True Label       : 0\n",
      "  Predicted Prob.  : 0.1227\n",
      "  Predicted Class  : 0\n",
      "  Features (truncated): [ 0.86 -1.23 -1.08  0.86 -0.28] ...\n",
      "————————————————————————————————————————\n",
      "Sample 3:\n",
      "  True Label       : 0\n",
      "  Predicted Prob.  : 0.4333\n",
      "  Predicted Class  : 0\n",
      "  Features (truncated): [-0.37  0.81  1.44  0.86  1.24] ...\n",
      "————————————————————————————————————————\n",
      "Sample 5:\n",
      "  True Label       : 1\n",
      "  Predicted Prob.  : 0.4080\n",
      "  Predicted Class  : 0\n",
      "  Features (truncated): [-0.67  0.81  0.18 -1.05 -0.06] ...\n",
      "————————————————————————————————————————\n",
      "Sample 8:\n",
      "  True Label       : 1\n",
      "  Predicted Prob.  : 0.6842\n",
      "  Predicted Class  : 1\n",
      "  Features (truncated): [-1.06 -1.23  0.18 -1.05  0.37] ...\n",
      "————————————————————————————————————————\n",
      "Sample 9:\n",
      "  True Label       : 1\n",
      "  Predicted Prob.  : 0.1546\n",
      "  Predicted Class  : 0\n",
      "  Features (truncated): [ 0.56  0.81  0.18 -1.05  0.16] ...\n",
      "————————————————————————————————————————\n"
     ]
    },
    {
     "name": "stderr",
     "output_type": "stream",
     "text": [
      "/var/folders/4s/rxmc9std2qsb_vypd4r5yvt00000gn/T/ipykernel_17017/4064447856.py:16: DeprecationWarning: Conversion of an array with ndim > 0 to a scalar is deprecated, and will error in future. Ensure you extract a single element from your array before performing this operation. (Deprecated NumPy 1.25.)\n",
      "  label = int(y_sample_np[i])\n"
     ]
    }
   ],
   "source": [
    "X_sample, y_sample = next(iter(test_loader))\n",
    "\n",
    "model.eval()\n",
    "with torch.no_grad():\n",
    "    y_probs = model(X_sample)\n",
    "    y_preds = (y_probs > 0.5).float()\n",
    "\n",
    "import numpy as np\n",
    "X_sample_np = X_sample.numpy()\n",
    "y_sample_np = y_sample.numpy()\n",
    "y_probs_np = y_probs.numpy()\n",
    "y_preds_np = y_preds.numpy()\n",
    "\n",
    "shown_0 = shown_1 = 0\n",
    "for i in range(len(X_sample_np)):\n",
    "    label = int(y_sample_np[i])\n",
    "    if (label == 0 and shown_0 < 3) or (label == 1 and shown_1 < 3):\n",
    "        print(f\"Sample {i+1}:\")\n",
    "        print(f\"  True Label       : {label}\")\n",
    "        print(f\"  Predicted Prob.  : {y_probs_np[i][0]:.4f}\")\n",
    "        print(f\"  Predicted Class  : {int(y_preds_np[i][0])}\")\n",
    "        print(f\"  Features (truncated): {np.round(X_sample_np[i][:5], 2)} ...\")\n",
    "        print(\"—\" * 40)\n",
    "        if label == 0:\n",
    "            shown_0 += 1\n",
    "        else:\n",
    "            shown_1 += 1\n",
    "    if shown_0 >= 3 and shown_1 >= 3:\n",
    "        break"
   ]
  },
  {
   "cell_type": "markdown",
   "id": "664b9781",
   "metadata": {},
   "source": [
    "#### 9. Try regurization tehniques: <br> l1,l2 regularization <br> Dropout"
   ]
  },
  {
   "cell_type": "markdown",
   "id": "b3aa6c29",
   "metadata": {},
   "source": [
    "defining the regularized model"
   ]
  },
  {
   "cell_type": "code",
   "execution_count": 13,
   "id": "952cbe65",
   "metadata": {},
   "outputs": [],
   "source": [
    "class RegularizedNN(nn.Module):\n",
    "    def __init__(self, input_dim):\n",
    "        super(RegularizedNN, self).__init__()\n",
    "        self.fc1 = nn.Linear(input_dim, 64)\n",
    "        self.dropout1 = nn.Dropout(0.3)\n",
    "        self.fc2 = nn.Linear(64, 32)\n",
    "        self.dropout2 = nn.Dropout(0.3)\n",
    "        self.out = nn.Linear(32, 1)\n",
    "\n",
    "    def forward(self, x):\n",
    "        x = F.relu(self.fc1(x))\n",
    "        x = self.dropout1(x)\n",
    "        x = F.relu(self.fc2(x))\n",
    "        x = self.dropout2(x)\n",
    "        x = torch.sigmoid(self.out(x))  # Binary classification\n",
    "        return x"
   ]
  },
  {
   "cell_type": "markdown",
   "id": "14e06990",
   "metadata": {},
   "source": [
    "set up model, l1+l2 regularization, loss and optimizer "
   ]
  },
  {
   "cell_type": "code",
   "execution_count": 14,
   "id": "cdb5c124",
   "metadata": {},
   "outputs": [],
   "source": [
    "input_dim = X.shape[1]\n",
    "model = RegularizedNN(input_dim)\n",
    "\n",
    "criterion = nn.BCELoss()\n",
    "\n",
    "#l2\n",
    "optimizer = optim.Adam(model.parameters(), lr=0.001, weight_decay=1e-4)\n",
    "\n",
    "#l1\n",
    "l1_lambda = 1e-5"
   ]
  },
  {
   "cell_type": "markdown",
   "id": "7e490610",
   "metadata": {},
   "source": [
    "training loop with l1 loss added manually"
   ]
  },
  {
   "cell_type": "code",
   "execution_count": 15,
   "id": "59266db5",
   "metadata": {},
   "outputs": [
    {
     "name": "stdout",
     "output_type": "stream",
     "text": [
      "Epoch 1/20 | Train Acc: 0.8011 | Val Acc: 0.8144\n",
      "Epoch 2/20 | Train Acc: 0.8139 | Val Acc: 0.8192\n",
      "Epoch 3/20 | Train Acc: 0.8158 | Val Acc: 0.8210\n",
      "Epoch 4/20 | Train Acc: 0.8157 | Val Acc: 0.8187\n",
      "Epoch 5/20 | Train Acc: 0.8174 | Val Acc: 0.8185\n",
      "Epoch 6/20 | Train Acc: 0.8182 | Val Acc: 0.8173\n",
      "Epoch 7/20 | Train Acc: 0.8193 | Val Acc: 0.8185\n",
      "Epoch 8/20 | Train Acc: 0.8184 | Val Acc: 0.8196\n",
      "Epoch 9/20 | Train Acc: 0.8194 | Val Acc: 0.8192\n",
      "Epoch 10/20 | Train Acc: 0.8190 | Val Acc: 0.8177\n",
      "Epoch 11/20 | Train Acc: 0.8192 | Val Acc: 0.8190\n",
      "Epoch 12/20 | Train Acc: 0.8183 | Val Acc: 0.8196\n",
      "Epoch 13/20 | Train Acc: 0.8203 | Val Acc: 0.8185\n",
      "Epoch 14/20 | Train Acc: 0.8191 | Val Acc: 0.8179\n",
      "Epoch 15/20 | Train Acc: 0.8189 | Val Acc: 0.8183\n",
      "Epoch 16/20 | Train Acc: 0.8206 | Val Acc: 0.8192\n",
      "Epoch 17/20 | Train Acc: 0.8206 | Val Acc: 0.8190\n",
      "Epoch 18/20 | Train Acc: 0.8204 | Val Acc: 0.8190\n",
      "Epoch 19/20 | Train Acc: 0.8211 | Val Acc: 0.8181\n",
      "Epoch 20/20 | Train Acc: 0.8190 | Val Acc: 0.8177\n"
     ]
    }
   ],
   "source": [
    "num_epochs = 20\n",
    "train_loss_his = []\n",
    "val_loss_his = []\n",
    "train_acc_his = []\n",
    "val_acc_his = []\n",
    "\n",
    "for epoch in range(num_epochs):\n",
    "    model.train()\n",
    "    total_loss = 0\n",
    "    correct_train = 0\n",
    "    total_train = 0\n",
    "\n",
    "    for X_batch, y_batch in train_loader:\n",
    "        optimizer.zero_grad()\n",
    "        y_pred = model(X_batch)\n",
    "\n",
    "        l1_norm = sum(p.abs().sum() for p in model.parameters())\n",
    "        loss = criterion(y_pred, y_batch) + l1_lambda * l1_norm\n",
    "\n",
    "        loss.backward()\n",
    "        optimizer.step()\n",
    "\n",
    "        total_loss += loss.item()\n",
    "        preds = (y_pred > 0.5).float()\n",
    "        correct_train += (preds == y_batch).sum().item()\n",
    "        total_train += y_batch.size(0)\n",
    "\n",
    "    train_loss_his.append(total_loss / len(train_loader))\n",
    "    train_acc_his.append(correct_train / total_train)\n",
    "\n",
    "    model.eval()\n",
    "    val_loss = 0\n",
    "    correct_val = 0\n",
    "    total_val = 0\n",
    "    with torch.no_grad():\n",
    "        for X_batch, y_batch in val_loader:\n",
    "            y_pred = model(X_batch)\n",
    "            loss = criterion(y_pred, y_batch)\n",
    "            val_loss += loss.item()\n",
    "\n",
    "            preds = (y_pred > 0.5).float()\n",
    "            correct_val += (preds == y_batch).sum().item()\n",
    "            total_val += y_batch.size(0)\n",
    "\n",
    "    val_loss_his.append(val_loss / len(val_loader))\n",
    "    val_acc_his.append(correct_val / total_val)\n",
    "\n",
    "    print(f\"Epoch {epoch+1}/{num_epochs} | \"\n",
    "          f\"Train Acc: {train_acc_his[-1]:.4f} | Val Acc: {val_acc_his[-1]:.4f}\")"
   ]
  },
  {
   "cell_type": "markdown",
   "id": "d6923961",
   "metadata": {},
   "source": [
    "evaluate on the test dataset"
   ]
  },
  {
   "cell_type": "code",
   "execution_count": 16,
   "id": "29c9c851",
   "metadata": {},
   "outputs": [
    {
     "name": "stdout",
     "output_type": "stream",
     "text": [
      "Test Loss: 0.4345\n",
      "Test Accuracy: 0.8180\n"
     ]
    }
   ],
   "source": [
    "model.eval()\n",
    "test_loss = 0\n",
    "correct = 0\n",
    "total = 0\n",
    "\n",
    "with torch.no_grad():\n",
    "    for X_batch, y_batch in test_loader:\n",
    "        y_pred = model(X_batch)\n",
    "        loss = criterion(y_pred, y_batch)\n",
    "        test_loss += loss.item()\n",
    "\n",
    "        preds = (y_pred > 0.5).float()\n",
    "        correct += (preds == y_batch).sum().item()\n",
    "        total += y_batch.size(0)\n",
    "\n",
    "print(f\"Test Loss: {test_loss / len(test_loader):.4f}\")\n",
    "print(f\"Test Accuracy: {correct / total:.4f}\")"
   ]
  },
  {
   "cell_type": "markdown",
   "id": "9aef53e7",
   "metadata": {},
   "source": [
    "#### 10. Try also batch normalization and weight initilization (e.g., Gorot, He, LeCun)"
   ]
  },
  {
   "cell_type": "code",
   "execution_count": 17,
   "id": "7d008ec3",
   "metadata": {},
   "outputs": [],
   "source": [
    "class BatchNormInitNN(nn.Module):\n",
    "    def __init__(self, input_dim):\n",
    "        super(BatchNormInitNN, self).__init__()\n",
    "        self.fc1 = nn.Linear(input_dim, 64)\n",
    "        self.bn1 = nn.BatchNorm1d(64)\n",
    "        self.dropout1 = nn.Dropout(0.3)\n",
    "\n",
    "        self.fc2 = nn.Linear(64, 32)\n",
    "        self.bn2 = nn.BatchNorm1d(32)\n",
    "        self.dropout2 = nn.Dropout(0.3)\n",
    "\n",
    "        self.out = nn.Linear(32, 1)\n",
    "\n",
    "    def forward(self, x):\n",
    "        x = F.relu(self.bn1(self.fc1(x)))\n",
    "        x = self.dropout1(x)\n",
    "        x = F.relu(self.bn2(self.fc2(x)))\n",
    "        x = self.dropout2(x)\n",
    "        x = torch.sigmoid(self.out(x))\n",
    "        return x\n",
    "\n",
    "def init_weights_he(module):\n",
    "    if isinstance(module, nn.Linear):\n",
    "        nn.init.kaiming_uniform_(module.weight, nonlinearity='relu')\n",
    "        nn.init.zeros_(module.bias)\n",
    "\n",
    "input_dim = X.shape[1]\n",
    "model = BatchNormInitNN(input_dim)\n",
    "model.apply(init_weights_he)\n",
    "\n",
    "criterion = nn.BCELoss()\n",
    "optimizer = optim.Adam(model.parameters(), lr=0.001)\n"
   ]
  },
  {
   "cell_type": "code",
   "execution_count": 18,
   "id": "da0056b5",
   "metadata": {},
   "outputs": [
    {
     "name": "stdout",
     "output_type": "stream",
     "text": [
      "Epoch 1/20 | Train Acc: 0.7497 | Val Acc: 0.8104\n",
      "Epoch 2/20 | Train Acc: 0.7985 | Val Acc: 0.8121\n",
      "Epoch 3/20 | Train Acc: 0.8063 | Val Acc: 0.8146\n",
      "Epoch 4/20 | Train Acc: 0.8079 | Val Acc: 0.8152\n",
      "Epoch 5/20 | Train Acc: 0.8105 | Val Acc: 0.8146\n",
      "Epoch 6/20 | Train Acc: 0.8092 | Val Acc: 0.8181\n",
      "Epoch 7/20 | Train Acc: 0.8151 | Val Acc: 0.8173\n",
      "Epoch 8/20 | Train Acc: 0.8141 | Val Acc: 0.8158\n",
      "Epoch 9/20 | Train Acc: 0.8111 | Val Acc: 0.8183\n",
      "Epoch 10/20 | Train Acc: 0.8127 | Val Acc: 0.8190\n",
      "Epoch 11/20 | Train Acc: 0.8150 | Val Acc: 0.8185\n",
      "Epoch 12/20 | Train Acc: 0.8144 | Val Acc: 0.8194\n",
      "Epoch 13/20 | Train Acc: 0.8168 | Val Acc: 0.8187\n",
      "Epoch 14/20 | Train Acc: 0.8128 | Val Acc: 0.8181\n",
      "Epoch 15/20 | Train Acc: 0.8136 | Val Acc: 0.8177\n",
      "Epoch 16/20 | Train Acc: 0.8155 | Val Acc: 0.8169\n",
      "Epoch 17/20 | Train Acc: 0.8135 | Val Acc: 0.8190\n",
      "Epoch 18/20 | Train Acc: 0.8164 | Val Acc: 0.8192\n",
      "Epoch 19/20 | Train Acc: 0.8168 | Val Acc: 0.8185\n",
      "Epoch 20/20 | Train Acc: 0.8144 | Val Acc: 0.8173\n"
     ]
    }
   ],
   "source": [
    "\n",
    "num_epochs = 20\n",
    "train_loss_bn, val_loss_bn = [], []\n",
    "train_acc_bn, val_acc_bn = [], []\n",
    "\n",
    "for epoch in range(num_epochs):\n",
    "    model.train()\n",
    "    total_loss = 0\n",
    "    correct = 0\n",
    "    total = 0\n",
    "\n",
    "    for X_batch, y_batch in train_loader:\n",
    "        optimizer.zero_grad()\n",
    "        y_pred = model(X_batch)\n",
    "        loss = criterion(y_pred, y_batch)\n",
    "        loss.backward()\n",
    "        optimizer.step()\n",
    "\n",
    "        total_loss += loss.item()\n",
    "        preds = (y_pred > 0.5).float()\n",
    "        correct += (preds == y_batch).sum().item()\n",
    "        total += y_batch.size(0)\n",
    "\n",
    "    train_loss_bn.append(total_loss / len(train_loader))\n",
    "    train_acc_bn.append(correct / total)\n",
    "\n",
    "    model.eval()\n",
    "    val_loss = 0\n",
    "    correct_val = 0\n",
    "    total_val = 0\n",
    "\n",
    "    with torch.no_grad():\n",
    "        for X_batch, y_batch in val_loader:\n",
    "            y_pred = model(X_batch)\n",
    "            loss = criterion(y_pred, y_batch)\n",
    "            val_loss += loss.item()\n",
    "            preds = (y_pred > 0.5).float()\n",
    "            correct_val += (preds == y_batch).sum().item()\n",
    "            total_val += y_batch.size(0)\n",
    "\n",
    "    val_loss_bn.append(val_loss / len(val_loader))\n",
    "    val_acc_bn.append(correct_val / total_val)\n",
    "\n",
    "    print(f\"Epoch {epoch+1}/{num_epochs} | Train Acc: {train_acc_bn[-1]:.4f} | Val Acc: {val_acc_bn[-1]:.4f}\")\n"
   ]
  },
  {
   "cell_type": "code",
   "execution_count": 19,
   "id": "3340a023",
   "metadata": {},
   "outputs": [
    {
     "name": "stdout",
     "output_type": "stream",
     "text": [
      "\n",
      "Test Loss: 0.4363\n",
      "Test Accuracy: 0.8200\n"
     ]
    }
   ],
   "source": [
    "model.eval()\n",
    "test_loss = 0\n",
    "correct = 0\n",
    "total = 0\n",
    "\n",
    "with torch.no_grad():\n",
    "    for X_batch, y_batch in test_loader:\n",
    "        y_pred = model(X_batch)\n",
    "        loss = criterion(y_pred, y_batch)\n",
    "        test_loss += loss.item()\n",
    "        preds = (y_pred > 0.5).float()\n",
    "        correct += (preds == y_batch).sum().item()\n",
    "        total += y_batch.size(0)\n",
    "\n",
    "print(f\"\\nTest Loss: {test_loss / len(test_loader):.4f}\")\n",
    "print(f\"Test Accuracy: {correct / total:.4f}\")\n"
   ]
  },
  {
   "cell_type": "markdown",
   "id": "10a718c2",
   "metadata": {},
   "source": [
    "#### 11. Compare the performance of your initial model in the test dataset against the performance of the models in item 14 and 15"
   ]
  },
  {
   "cell_type": "markdown",
   "id": "2085035d",
   "metadata": {},
   "source": [
    "### Model Performance Comparison\n",
    "\n",
    "We compared 3 neural network configurations: \n",
    "\n",
    "| Model Version                        | Techniques Used                            | Test Accuracy | Test Loss |\n",
    "|-------------------------------------|---------------------------------------------|---------------|-----------|\n",
    "| **Initial Model (Q7)**              | Dropout only                                | 81.75%        | 0.4357    |\n",
    "| **Regularized Model (Q9)**          | Dropout + L1 + L2 regularization            | 81.80%        | 0.4345    |\n",
    "| **BatchNorm + He Init Model (Q10)** | Dropout + BatchNorm + He Initialization     | 82.00%        | 0.4363    |\n",
    "\n",
    "---\n",
    "\n",
    "### Comparison:\n",
    "\n",
    "- The initial model performed well with dropout, reaching a 81.75% accuracy rate. \n",
    "\n",
    "- Adding L1 and L2 regularization in Q9 yielded a small but stable improvement - reduced overfitting and improved weight control \n",
    "\n",
    "- The model using Batch Normalization and He Initialization in Q10 performed better compared to the other 2 models with an accuracy of 82.00%. \n"
   ]
  }
 ],
 "metadata": {
  "kernelspec": {
   "display_name": "Python 3",
   "language": "python",
   "name": "python3"
  },
  "language_info": {
   "codemirror_mode": {
    "name": "ipython",
    "version": 3
   },
   "file_extension": ".py",
   "mimetype": "text/x-python",
   "name": "python",
   "nbconvert_exporter": "python",
   "pygments_lexer": "ipython3",
   "version": "3.10.11"
  }
 },
 "nbformat": 4,
 "nbformat_minor": 5
}
